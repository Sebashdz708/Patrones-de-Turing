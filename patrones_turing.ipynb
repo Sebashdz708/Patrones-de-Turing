{
 "cells": [
  {
   "cell_type": "code",
   "execution_count": 6,
   "id": "2874f627",
   "metadata": {},
   "outputs": [
    {
     "name": "stdout",
     "output_type": "stream",
     "text": [
      "The autoreload extension is already loaded. To reload it, use:\n",
      "  %reload_ext autoreload\n"
     ]
    }
   ],
   "source": [
    "import matplotlib.pyplot as plt\n",
    "import numpy as np\n",
    "\n",
    "# I'm using seaborn for it's fantastic default styles\n",
    "import seaborn as sns\n",
    "sns.set_style(\"whitegrid\")\n",
    "\n",
    "%matplotlib inline\n",
    "%load_ext autoreload\n",
    "%autoreload 2\n",
    "\n",
    "from tutils import BaseStateSystem"
   ]
  },
  {
   "cell_type": "code",
   "execution_count": 9,
   "id": "dc26e404",
   "metadata": {},
   "outputs": [],
   "source": [
    "def random_initialiser(shape):\n",
    "    return(\n",
    "        np.random.normal(loc=0, scale=0.05, size=shape),\n",
    "        np.random.normal(loc=0, scale=0.05, size=shape)\n",
    "    )"
   ]
  },
  {
   "cell_type": "code",
   "execution_count": 10,
   "id": "185b7ee7",
   "metadata": {},
   "outputs": [],
   "source": [
    "def laplacian1D(a, dx):\n",
    "    return (\n",
    "        - 2 * a\n",
    "        + np.roll(a,1,axis=0) \n",
    "        + np.roll(a,-1,axis=0)\n",
    "    ) / (dx ** 2)\n",
    "\n",
    "def laplacian2D(a, dx):\n",
    "    return (\n",
    "        - 4 * a\n",
    "        + np.roll(a,1,axis=0) \n",
    "        + np.roll(a,-1,axis=0)\n",
    "        + np.roll(a,+1,axis=1)\n",
    "        + np.roll(a,-1,axis=1)\n",
    "    ) / (dx ** 2)"
   ]
  },
  {
   "cell_type": "code",
   "execution_count": 18,
   "id": "08c1d08a",
   "metadata": {},
   "outputs": [],
   "source": [
    "class TwoDimensionalRDEquations(BaseStateSystem):\n",
    "    def __init__(self, Da, Db, Ra, Rb,\n",
    "                 initialiser=random_initialiser,\n",
    "                 width=1000, height=1000,\n",
    "                 dx=1, dt=0.1, steps=1):\n",
    "        \n",
    "        self.Da = Da\n",
    "        self.Db = Db\n",
    "        self.Ra = Ra\n",
    "        self.Rb = Rb\n",
    "\n",
    "        self.initialiser = initialiser\n",
    "        self.width = width\n",
    "        self.height = height\n",
    "        self.shape = (width, height)\n",
    "        self.dx = dx\n",
    "        self.dt = dt\n",
    "        self.steps = steps\n",
    "        \n",
    "    def initialise(self):\n",
    "        self.t = 0\n",
    "        self.a, self.b = self.initialiser(self.shape)\n",
    "        \n",
    "    def update(self):\n",
    "        for _ in range(self.steps):\n",
    "            self.t += self.dt\n",
    "            self._update()\n",
    "\n",
    "    def _update(self):\n",
    "        \n",
    "        # unpack so we don't have to keep writing \"self\"\n",
    "        a,b,Da,Db,Ra,Rb,dt,dx = (\n",
    "            self.a, self.b,\n",
    "            self.Da, self.Db,\n",
    "            self.Ra, self.Rb,\n",
    "            self.dt, self.dx\n",
    "        )\n",
    "        \n",
    "        La = laplacian2D(a, dx)\n",
    "        Lb = laplacian2D(b, dx)\n",
    "        \n",
    "        delta_a = dt * (Da * La + Ra(a,b))\n",
    "        delta_b = dt * (Db * Lb + Rb(a,b))\n",
    "        \n",
    "        self.a += delta_a\n",
    "        self.b += delta_b\n",
    "        \n",
    "    def draw(self, ax):\n",
    "        ax[0].clear()\n",
    "        ax[1].clear()\n",
    "\n",
    "        ax[0].imshow(self.a, cmap='jet')\n",
    "        ax[1].imshow(self.b, cmap='brg')\n",
    "        \n",
    "        ax[0].grid(b=False)\n",
    "        ax[1].grid(b=False)\n",
    "        \n",
    "        ax[0].set_title(\"A, t = {:.2f}\".format(self.t))\n",
    "        ax[1].set_title(\"B, t = {:.2f}\".format(self.t))\n",
    "        \n",
    "    def initialise_figure(self):\n",
    "        fig, ax = plt.subplots(nrows=1, ncols=2, figsize=(12,6))\n",
    "        return fig, ax\n",
    "    \n",
    "Da, Db, alpha, beta = 1, 100, -0.005, 10\n",
    "\n",
    "def Ra(a,b): return a - a ** 3 - b + alpha\n",
    "def Rb(a,b): return (a - b) * beta"
   ]
  },
  {
   "cell_type": "code",
   "execution_count": 21,
   "id": "1b823f3b",
   "metadata": {},
   "outputs": [],
   "source": [
    "width = 200\n",
    "dx = 1\n",
    "dt = 0.001\n",
    "\n",
    "TwoDimensionalRDEquations(\n",
    "    Da, Db, Ra, Rb, \n",
    "    width=width, height=width, \n",
    "    dx=dx, dt=dt, steps=100\n",
    ").plot_evolution_outcome(\"2dRD.png\", n_steps=150)"
   ]
  },
  {
   "cell_type": "code",
   "execution_count": null,
   "id": "b9dae562",
   "metadata": {},
   "outputs": [],
   "source": []
  }
 ],
 "metadata": {
  "kernelspec": {
   "display_name": "Python 3 (ipykernel)",
   "language": "python",
   "name": "python3"
  },
  "language_info": {
   "codemirror_mode": {
    "name": "ipython",
    "version": 3
   },
   "file_extension": ".py",
   "mimetype": "text/x-python",
   "name": "python",
   "nbconvert_exporter": "python",
   "pygments_lexer": "ipython3",
   "version": "3.9.7"
  }
 },
 "nbformat": 4,
 "nbformat_minor": 5
}
