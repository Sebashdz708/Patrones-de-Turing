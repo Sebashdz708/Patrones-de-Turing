{
 "cells": [
  {
   "cell_type": "code",
   "execution_count": 2,
   "id": "4b2698aa",
   "metadata": {},
   "outputs": [],
   "source": [
    "import matplotlib.pyplot as plt\n",
    "import numpy as np\n",
    "\n",
    "# I'm using seaborn for it's fantastic default styles\n",
    "import seaborn as sns\n",
    "sns.set_style(\"whitegrid\")\n",
    "\n",
    "%matplotlib inline\n",
    "%load_ext autoreload\n",
    "\n",
    "%autoreload 2\n",
    "\n",
    "# Es un archivo con funciones útiles\n",
    "from tutils import BaseStateSystem"
   ]
  },
  {
   "cell_type": "code",
   "execution_count": 4,
   "id": "95484d22",
   "metadata": {},
   "outputs": [],
   "source": [
    "def laplacian1D(a, dx):\n",
    "    return (\n",
    "        - 2 * a\n",
    "        + np.roll(a,1,axis=0) \n",
    "        + np.roll(a,-1,axis=0)\n",
    "    ) / (dx ** 2)\n",
    "\n",
    "def laplacian2D(a, dx):\n",
    "    return (\n",
    "        - 4 * a\n",
    "        + np.roll(a,1,axis=0) \n",
    "        + np.roll(a,-1,axis=0)\n",
    "        + np.roll(a,+1,axis=1)\n",
    "        + np.roll(a,-1,axis=1)\n",
    "    ) / (dx ** 2)"
   ]
  },
  {
   "cell_type": "code",
   "execution_count": 5,
   "id": "cfec38e4",
   "metadata": {},
   "outputs": [],
   "source": [
    "class TwoDimensionalRDEquations(BaseStateSystem):\n",
    "    def __init__(self, P, Ra, Rb,\n",
    "                 initialiser=random_initialiser,\n",
    "                 width=1000, height=1000,\n",
    "                 dx=1, dt=0.1, steps=1):\n",
    "        \n",
    "        self.P = P\n",
    "        self.Ra = Ra\n",
    "        self.Rb = Rb\n",
    "\n",
    "        self.initialiser = initialiser\n",
    "        self.width = width\n",
    "        self.height = height\n",
    "        self.shape = (width, height)\n",
    "        self.dx = dx\n",
    "        self.dt = dt\n",
    "        self.steps = steps\n",
    "        \n",
    "    def initialise(self):\n",
    "        self.t = 0\n",
    "        self.a, self.b = self.initialiser(self.shape)\n",
    "        \n",
    "    def update(self):\n",
    "        for _ in range(self.steps):\n",
    "            self.t += self.dt\n",
    "            self._update()\n",
    "\n",
    "    def _update(self):\n",
    "        \n",
    "        # unpack so we don't have to keep writing \"self\"\n",
    "        a,b,P,Ra,Rb,dt,dx = (\n",
    "            self.a, self.b,\n",
    "            self.P,\n",
    "            self.Ra, self.Rb,\n",
    "            self.dt, self.dx\n",
    "        )\n",
    "        \n",
    "        La = laplacian2D(a, dx)\n",
    "        Lb = laplacian2D(b, dx)\n",
    "        \n",
    "        delta_a = dt * (1 * La + Ra(a,b))\n",
    "        delta_b = dt * (P * Lb + Rb(a,b))\n",
    "        \n",
    "        self.a += delta_a\n",
    "        self.b += delta_b\n",
    "        \n",
    "    def draw(self, ax):\n",
    "        ax[0].clear()\n",
    "        ax[1].clear()\n",
    "\n",
    "        ax[0].imshow(self.a, cmap='jet')\n",
    "        ax[1].imshow(self.b, cmap='brg')\n",
    "        \n",
    "        ax[0].grid(False)\n",
    "        ax[1].grid(False)\n",
    "        \n",
    "        ax[0].set_title(\"A, t = {:.2f}\".format(self.t))\n",
    "        ax[1].set_title(\"B, t = {:.2f}\".format(self.t))\n",
    "        \n",
    "    def initialise_figure(self):\n",
    "        fig, ax = plt.subplots(nrows=1, ncols=2, figsize=(12,6))\n",
    "        return fig, ax\n",
    "\n"
   ]
  },
  {
   "cell_type": "markdown",
   "id": "40bbecbd",
   "metadata": {},
   "source": [
    "### Único punto random:"
   ]
  },
  {
   "cell_type": "code",
   "execution_count": 146,
   "id": "89452b2c",
   "metadata": {
    "scrolled": true
   },
   "outputs": [],
   "source": [
    "def random_initialiser(shape):\n",
    "    return(\n",
    "        np.random.normal(loc=0, scale=0.1, size=shape),\n",
    "        np.random.normal(loc=0, scale=0.1, size=shape)\n",
    "    )\n",
    "\n",
    "P, Q, R = 100, 10, 1\n",
    "\n",
    "def Ra(a,b): return 1 + R*(a**2)/b - a\n",
    "def Rb(a,b): return Q*(a**2 - b)\n",
    "width = 200\n",
    "dx = 1\n",
    "dt = 0.001\n",
    "\n",
    "TwoDimensionalRDEquations(\n",
    "    P, Ra, Rb, \n",
    "    width=width, height=width, \n",
    "    dx=dx, dt=dt, steps=250\n",
    ").plot_evolution_outcome(\"2dRD.png\", n_steps=10)"
   ]
  },
  {
   "cell_type": "markdown",
   "id": "d2ad04ed",
   "metadata": {},
   "source": [
    "### Con simetrías 3, 5 y 7:"
   ]
  },
  {
   "cell_type": "code",
   "execution_count": 150,
   "id": "a6d3a887",
   "metadata": {},
   "outputs": [
    {
     "name": "stderr",
     "output_type": "stream",
     "text": [
      "MovieWriter imagemagick unavailable; using Pillow instead.\n",
      "MovieWriter imagemagick unavailable; using Pillow instead.\n",
      "MovieWriter imagemagick unavailable; using Pillow instead.\n"
     ]
    }
   ],
   "source": [
    "from scipy.ndimage import rotate\n",
    "\n",
    "def average_rotate(a, degree):\n",
    "    \"\"\"\n",
    "    Takes a 2d array a, and produces the average arrays,\n",
    "    having rotated it degree times. The resulting shape\n",
    "    has approximate degree-fold rotational symmetry.\n",
    "    \"\"\"\n",
    "    theta = 360 / degree\n",
    "\n",
    "    a = np.mean([rotate(a, theta * i, reshape=False) for i in range(degree)], axis=0)\n",
    "\n",
    "    return a\n",
    "\n",
    "\n",
    "def random_symmetric_initialiser(shape, degree):\n",
    "    \"\"\"\n",
    "    Random initialiser with degree-fold symmetry.\n",
    "    \"\"\"\n",
    "    \n",
    "    a = np.random.normal(loc=0, scale=0.05, size=shape)\n",
    "    b = np.random.normal(loc=0, scale=0.05, size=shape)\n",
    "\n",
    "    return (\n",
    "        average_rotate(a, degree), \n",
    "        average_rotate(b, degree)\n",
    "    )\n",
    "\n",
    "P, Q, R = 3.8, 0.06, 0.062\n",
    "\n",
    "def Ra(a,b): return 1 + R*(a**2)/b - a\n",
    "def Rb(a,b): return Q*(a**2 - b)\n",
    "width = 200\n",
    "dx = 1\n",
    "dt = 0.001\n",
    "\n",
    "# three fold\n",
    "three_fold_initialiser = lambda shape: random_symmetric_initialiser(shape, 3)\n",
    "\n",
    "TwoDimensionalRDEquations(\n",
    "    P, Ra, Rb,  \n",
    "    initialiser=three_fold_initialiser, \n",
    "    width=width, height=width, \n",
    "    dx=dx, dt=dt, steps=250\n",
    ").plot_time_evolution(\"2dRD_3_fold_sym.gif\", n_steps=5)\n",
    "\n",
    "# five fold\n",
    "five_fold_initialiser = lambda shape: random_symmetric_initialiser(shape, 5)\n",
    "\n",
    "TwoDimensionalRDEquations(\n",
    "    P, Ra, Rb, \n",
    "    initialiser=five_fold_initialiser, \n",
    "    width=width, height=width, \n",
    "    dx=dx, dt=dt, steps=250\n",
    ").plot_time_evolution(\"2dRD_5_fold_sym.gif\", n_steps=5)\n",
    "\n",
    "# seven fold\n",
    "seven_fold_initialiser = lambda shape: random_symmetric_initialiser(shape, 7)\n",
    "\n",
    "TwoDimensionalRDEquations(\n",
    "    P, Ra, Rb, \n",
    "    initialiser=seven_fold_initialiser, \n",
    "    width=width, height=width, \n",
    "    dx=dx, dt=dt, steps=250\n",
    ").plot_time_evolution(\"2dRD_7_fold_sym.gif\", n_steps=5)"
   ]
  },
  {
   "cell_type": "markdown",
   "id": "996d3166",
   "metadata": {},
   "source": [
    "### Puntos con simetría equiespaciada cuadrículada:"
   ]
  },
  {
   "cell_type": "code",
   "execution_count": 161,
   "id": "485d67ee",
   "metadata": {},
   "outputs": [
    {
     "name": "stderr",
     "output_type": "stream",
     "text": [
      "MovieWriter imagemagick unavailable; using Pillow instead.\n"
     ]
    }
   ],
   "source": [
    "def eqspace_initialiser(shape):\n",
    "\n",
    "    a = np.zeros(shape)\n",
    "    b = np.zeros(shape)\n",
    "    \n",
    "    c = 25 #To change the grid size\n",
    "\n",
    "    m = np.random.normal(loc=0, scale=0.05, size=(c,c))\n",
    "    n = np.random.normal(loc=0, scale=0.05, size=(c,c))\n",
    "\n",
    "    for k in range (0,c):\n",
    "        for h in range (0,c):\n",
    "            for i in range(0,shape[0],c):\n",
    "                for j in range(0,shape[0],c):\n",
    "                    a[i+k][j+h] = m[k][h]\n",
    "                    b[i+k][j+h] = n[k][h]\n",
    "\n",
    "    return(a,b)\n",
    "\n",
    "P, Q, R = 100, 0.06, 0.062\n",
    "\n",
    "def Ra(a,b): return 1 + R*(a**2)/b - a\n",
    "def Rb(a,b): return Q*(a**2 - b)\n",
    "width = 200\n",
    "dx = 1\n",
    "dt = 0.001\n",
    "\n",
    "TwoDimensionalRDEquations(\n",
    "    P, Ra, Rb, \n",
    "    initialiser=eqspace_initialiser,\n",
    "    width=width, height=width, \n",
    "    dx=dx, dt=dt, steps=600\n",
    ").plot_time_evolution(\"2dRD_equispacesym.gif\", n_steps=150)"
   ]
  },
  {
   "cell_type": "markdown",
   "id": "6d27bd80",
   "metadata": {},
   "source": [
    "### Barras:"
   ]
  },
  {
   "cell_type": "code",
   "execution_count": 148,
   "id": "5b653d7a",
   "metadata": {},
   "outputs": [
    {
     "name": "stderr",
     "output_type": "stream",
     "text": [
      "MovieWriter imagemagick unavailable; using Pillow instead.\n"
     ]
    }
   ],
   "source": [
    "def bar_initialiser(shape):\n",
    "\n",
    "    a = np.zeros(shape)\n",
    "    b = np.zeros(shape)\n",
    "\n",
    "    c = 100 #To change the grid size\n",
    "    \n",
    "    m = np.random.normal(loc=0, scale=0.05, size=(1,c))\n",
    "    n = np.random.normal(loc=0, scale=0.05, size=(1,c))\n",
    "\n",
    "    for h in range (0,c):\n",
    "        for i in range(0,shape[0]):\n",
    "            for j in range(0,shape[0],c):\n",
    "                a[i][j+h] = m[0][h]\n",
    "                b[i][j+h] = n[0][h]\n",
    "\n",
    "    return(a,b)\n",
    "\n",
    "P, Q, R = 100, 10, 1\n",
    "\n",
    "def Ra(a,b): return 1 + R*(a**2)/b - a\n",
    "def Rb(a,b): return Q*(a**2 - b)\n",
    "width = 200\n",
    "dx = 1\n",
    "dt = 0.001\n",
    "\n",
    "TwoDimensionalRDEquations(\n",
    "    P, Ra, Rb, \n",
    "    initialiser=bar_initialiser,\n",
    "    width=width, height=width, \n",
    "    dx=dx, dt=dt, steps=200\n",
    ").plot_time_evolution(\"2dRD_barsym.gif\", n_steps=10)"
   ]
  }
 ],
 "metadata": {
  "kernelspec": {
   "display_name": "Python 3 (ipykernel)",
   "language": "python",
   "name": "python3"
  },
  "language_info": {
   "codemirror_mode": {
    "name": "ipython",
    "version": 3
   },
   "file_extension": ".py",
   "mimetype": "text/x-python",
   "name": "python",
   "nbconvert_exporter": "python",
   "pygments_lexer": "ipython3",
   "version": "3.8.8"
  }
 },
 "nbformat": 4,
 "nbformat_minor": 5
}
